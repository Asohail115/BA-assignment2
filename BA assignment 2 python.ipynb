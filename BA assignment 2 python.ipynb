{
 "cells": [
  {
   "cell_type": "code",
   "execution_count": 5,
   "id": "c836a620",
   "metadata": {},
   "outputs": [
    {
     "name": "stdout",
     "output_type": "stream",
     "text": [
      "enter the char valueA\n",
      "the ASCII value of A is 65\n"
     ]
    }
   ],
   "source": [
    "n=input(\"enter the char value\")\n",
    "print(\"the ASCII value of\", n ,\"is\", ord(n))"
   ]
  },
  {
   "cell_type": "code",
   "execution_count": 24,
   "id": "85a0960c",
   "metadata": {},
   "outputs": [],
   "source": [
    "def sqr(n):\n",
    "    sm=0\n",
    "    for i in range(1,n+1):\n",
    "        sm=sm+i**2\n",
    "    return sm"
   ]
  },
  {
   "cell_type": "code",
   "execution_count": 26,
   "id": "a011e1af",
   "metadata": {},
   "outputs": [
    {
     "data": {
      "text/plain": [
       "14"
      ]
     },
     "execution_count": 26,
     "metadata": {},
     "output_type": "execute_result"
    }
   ],
   "source": [
    "sqr(3)"
   ]
  },
  {
   "cell_type": "code",
   "execution_count": 31,
   "id": "f371862f",
   "metadata": {},
   "outputs": [],
   "source": [
    "def cub(n):\n",
    "    cu=0\n",
    "    for i in range(1,n+1):\n",
    "        cu=cu+i**3\n",
    "    return cu"
   ]
  },
  {
   "cell_type": "code",
   "execution_count": 33,
   "id": "61b069dc",
   "metadata": {},
   "outputs": [
    {
     "data": {
      "text/plain": [
       "9"
      ]
     },
     "execution_count": 33,
     "metadata": {},
     "output_type": "execute_result"
    }
   ],
   "source": [
    "cub(2)"
   ]
  },
  {
   "cell_type": "code",
   "execution_count": 42,
   "id": "0a59eb29",
   "metadata": {},
   "outputs": [],
   "source": [
    "def _sum(arr):\n",
    "    sum=0\n",
    "    for i in arr:\n",
    "        sum=sum+i\n",
    "    return sum"
   ]
  },
  {
   "cell_type": "code",
   "execution_count": 43,
   "id": "9c9a227d",
   "metadata": {},
   "outputs": [
    {
     "name": "stdout",
     "output_type": "stream",
     "text": [
      "the sum of array is 15\n"
     ]
    }
   ],
   "source": [
    "arr=[1,2,3,4,5]\n",
    "b=_sum(arr)\n",
    "print(\"the sum of array is\",b)"
   ]
  },
  {
   "cell_type": "code",
   "execution_count": 60,
   "id": "685617c8",
   "metadata": {},
   "outputs": [],
   "source": [
    "def _largest(arr):\n",
    "    for i in arr:\n",
    "        if i>i+1:\n",
    "            return 0\n",
    "        else:\n",
    "            return i+1"
   ]
  },
  {
   "cell_type": "code",
   "execution_count": 61,
   "id": "8afacd65",
   "metadata": {},
   "outputs": [
    {
     "data": {
      "text/plain": [
       "2"
      ]
     },
     "execution_count": 61,
     "metadata": {},
     "output_type": "execute_result"
    }
   ],
   "source": [
    "arr=[1,2,3,4]\n",
    "_largest(arr)"
   ]
  },
  {
   "cell_type": "code",
   "execution_count": 64,
   "id": "aae5ce88",
   "metadata": {},
   "outputs": [
    {
     "data": {
      "text/plain": [
       "[5, 4, 3, 2, 1]"
      ]
     },
     "execution_count": 64,
     "metadata": {},
     "output_type": "execute_result"
    }
   ],
   "source": [
    "arr=[1,2,3,4,5]\n",
    "arr[::-1]"
   ]
  },
  {
   "cell_type": "code",
   "execution_count": 74,
   "id": "9cc7d27b",
   "metadata": {},
   "outputs": [],
   "source": [
    "def _islarge(arr,n):\n",
    "    max=arr[0]\n",
    "    for i in range(1,n):\n",
    "        if arr[i]>max:\n",
    "            max=arr[i]\n",
    "            \n",
    "    return max"
   ]
  },
  {
   "cell_type": "code",
   "execution_count": 75,
   "id": "1696dc86",
   "metadata": {},
   "outputs": [
    {
     "data": {
      "text/plain": [
       "5"
      ]
     },
     "execution_count": 75,
     "metadata": {},
     "output_type": "execute_result"
    }
   ],
   "source": [
    "arr=[1,2,3,4,5]\n",
    "n=len(arr)\n",
    "_islarge(arr,n)"
   ]
  },
  {
   "cell_type": "code",
   "execution_count": 76,
   "id": "0d504bc5",
   "metadata": {},
   "outputs": [],
   "source": [
    "def fibonacci(n):\n",
    "    if n<=0:\n",
    "        print(\"incorrect input\")\n",
    "    elif n==1:\n",
    "        return 0\n",
    "    elif n==2:\n",
    "        return 1\n",
    "    else:\n",
    "        return fibonacci(n-1)+fibonacci(n-2)"
   ]
  },
  {
   "cell_type": "code",
   "execution_count": 77,
   "id": "26586afd",
   "metadata": {},
   "outputs": [
    {
     "name": "stdout",
     "output_type": "stream",
     "text": [
      "34\n"
     ]
    }
   ],
   "source": [
    "print(fibonacci(10))"
   ]
  },
  {
   "cell_type": "code",
   "execution_count": 78,
   "id": "41fb095d",
   "metadata": {},
   "outputs": [
    {
     "data": {
      "text/plain": [
       "21"
      ]
     },
     "execution_count": 78,
     "metadata": {},
     "output_type": "execute_result"
    }
   ],
   "source": [
    "fibonacci(9)"
   ]
  },
  {
   "cell_type": "code",
   "execution_count": 79,
   "id": "70ac9472",
   "metadata": {},
   "outputs": [
    {
     "data": {
      "text/plain": [
       "13"
      ]
     },
     "execution_count": 79,
     "metadata": {},
     "output_type": "execute_result"
    }
   ],
   "source": [
    "fibonacci(8)"
   ]
  },
  {
   "cell_type": "code",
   "execution_count": null,
   "id": "c778acc6",
   "metadata": {},
   "outputs": [],
   "source": []
  }
 ],
 "metadata": {
  "kernelspec": {
   "display_name": "Python 3 (ipykernel)",
   "language": "python",
   "name": "python3"
  },
  "language_info": {
   "codemirror_mode": {
    "name": "ipython",
    "version": 3
   },
   "file_extension": ".py",
   "mimetype": "text/x-python",
   "name": "python",
   "nbconvert_exporter": "python",
   "pygments_lexer": "ipython3",
   "version": "3.9.7"
  }
 },
 "nbformat": 4,
 "nbformat_minor": 5
}
